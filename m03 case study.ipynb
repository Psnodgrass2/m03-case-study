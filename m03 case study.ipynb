{
 "cells": [
  {
   "cell_type": "code",
   "execution_count": 1,
   "id": "fb6fa371",
   "metadata": {},
   "outputs": [],
   "source": [
    "class vehicle:\n",
    "    def __init__(self,vtype):\n",
    "        self.vtype = vtype\n",
    "    \n",
    "\n",
    "class car(vehicle):\n",
    "    year = 0\n",
    "    make = \"\"\n",
    "    model = \"\"\n",
    "    doors = 0\n",
    "    roof = \"\"\n",
    "    def __init__(self):\n",
    "        super().__init__(\"car\")\n",
    "    def print_attributes(self):\n",
    "        print(\"Vehicle type: \" + self.vtype + \"\\nYear: \" + str(self.year) + \"\\nMake: \" + \\\n",
    "              self.make + \"\\nModel: \" + self.model + \"\\nNumber of doors: \" \\\n",
    "              + str(self.doors) + \"\\nRoof Style: \" + self.roof)\n",
    "    \n",
    "        "
   ]
  },
  {
   "cell_type": "code",
   "execution_count": 2,
   "id": "1bacfea4",
   "metadata": {},
   "outputs": [
    {
     "name": "stdout",
     "output_type": "stream",
     "text": [
      "Please input the year of your car. 2001\n",
      "Please input the manufacturer of your car. Honda\n",
      "Please input the model of your car. Cr-v\n",
      "Please input the number of doors in your car. 4\n",
      "Please input the roof type of your car. (solid or sun roof)solid\n",
      "Vehicle type: car\n",
      "Year: 2001\n",
      "Make: Honda\n",
      "Model: Cr-v\n",
      "Number of doors: 4\n",
      "Roof Style: solid\n"
     ]
    }
   ],
   "source": [
    "c = car()\n",
    "c.year = int(input(\"Please input the year of your car. \"))\n",
    "c.make = input(\"Please input the manufacturer of your car. \")\n",
    "c.model = input(\"Please input the model of your car. \") \n",
    "c.doors = int(input(\"Please input the number of doors in your car. \"))\n",
    "c.roof = input(\"Please input the roof type of your car. (solid or sun roof)\")\n",
    "c.print_attributes()"
   ]
  }
 ],
 "metadata": {
  "kernelspec": {
   "display_name": "Python 3 (ipykernel)",
   "language": "python",
   "name": "python3"
  },
  "language_info": {
   "codemirror_mode": {
    "name": "ipython",
    "version": 3
   },
   "file_extension": ".py",
   "mimetype": "text/x-python",
   "name": "python",
   "nbconvert_exporter": "python",
   "pygments_lexer": "ipython3",
   "version": "3.9.13"
  }
 },
 "nbformat": 4,
 "nbformat_minor": 5
}
